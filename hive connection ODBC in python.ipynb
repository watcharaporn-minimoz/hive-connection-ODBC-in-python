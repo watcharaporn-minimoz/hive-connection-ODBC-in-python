{
    "cells": [
        {
            "cell_type": "code",
            "execution_count": 1,
            "source": [
                "import sys\n",
                "PATH_PACKAGES='/app/pmsuser/program/packages'\n",
                "sys.path.insert(0, PATH_PACKAGES)"
            ],
            "outputs": [],
            "metadata": {}
        },
        {
            "cell_type": "markdown",
            "source": [
                "#Cloudera ODBC Driver for Hive https://www.cloudera.com/downloads/connectors/hive/odbc/2-6-1.html"
            ],
            "metadata": {}
        },
        {
            "cell_type": "code",
            "execution_count": 2,
            "source": [
                "connection_string = '''Driver=/opt/cloudera/hiveodbc/lib/64/libclouderahiveodbc64.so;\n",
                "HOST=HOST;\n",
                "PORT=PORT;\n",
                "UID=USERNAME;\n",
                "PWD=PASSWORD;\n",
                "AuthMech=3;\n",
                "SSL=0;\n",
                "Min_TLS=1.2;\n",
                "AllowSelfSignedServerCert=1'''"
            ],
            "outputs": [],
            "metadata": {}
        },
        {
            "cell_type": "markdown",
            "source": [
                "#example_query"
            ],
            "metadata": {}
        },
        {
            "cell_type": "code",
            "execution_count": 3,
            "source": [
                "import pyodbc\n",
                "connection=pyodbc.connect(connection_string, autocommit=True)\n",
                "cursor = connection.cursor()\n",
                "query = '''SELECT * FROM pms_radio.master_province;'''\n",
                "cursor.execute(query)\n",
                "results = cursor.fetchall()\n",
                "print(results)\n",
                "cursor.close()"
            ],
            "outputs": [
                {
                    "output_type": "stream",
                    "name": "stdout",
                    "text": [
                        "[('1', 'กรุงเทพมหานคร', 'BANGKOK'), ('2', 'กระบี่', 'KRABI'), ('3', 'กาญจนบุรี', 'KANCHANABURI'), ('4', 'กาฬสินธุ์', 'KALASIN'), ('5', 'กำแพงเพชร', 'KAMPHAENG PHET'), ('6', 'ขอนแก่น', 'KHON KAEN'), ('7', 'จันทบุรี', 'CHANTHABURI'), ('8', 'ฉะเชิงเทรา', 'CHACHOENGSAO'), ('9', 'ชลบุรี', 'CHON BURI'), ('10', 'ชัยนาท', 'CHAI NAT'), ('11', 'ชัยภูมิ', 'CHAIYAPHUM'), ('12', 'ชุมพร', 'CHUMPHON'), ('13', 'เชียงราย', 'CHIANG RAI'), ('14', 'เชียงใหม่', 'CHIANG MAI'), ('15', 'ตรัง', 'TRANG'), ('16', 'ตราด', 'TRAT'), ('17', 'ตาก', 'TAK'), ('18', 'นครนายก', 'NAKHON NAYOK'), ('19', 'นครปฐม', 'NAKHON PATHOM'), ('20', 'นครพนม', 'NAKHON PHANOM'), ('21', 'นครราชสีมา', 'NAKHON RATCHASIMA'), ('22', 'นครศรีธรรมราช', 'NAKHON SI THAMMARAT'), ('23', 'นครสวรรค์', 'NAKHON SAWAN'), ('24', 'นนทบุรี', 'NONTHABURI'), ('25', 'นราธิวาส', 'NARATHIWAT'), ('26', 'น่าน', 'NAN'), ('27', 'บึงกาฬ', 'BUENG KAN'), ('28', 'บุรีรัมย์', 'BURI RAM'), ('29', 'ปทุมธานี', 'PATHUM THANI'), ('30', 'ประจวบคีรีขันธ์', 'PRACHUAP KHIRI KHAN'), ('31', 'ปราจีนบุรี', 'PRACHIN BURI'), ('32', 'ปัตตานี', 'PATTANI'), ('33', 'พระนครศรีอยุธยา', 'PHRA NAKHON SI AYUTTHAYA'), ('34', 'พะเยา', 'PHAYAO'), ('35', 'พังงา', 'PHANGNGA'), ('36', 'พัทลุง', 'PHATTHALUNG'), ('37', 'พิจิตร', 'PHICHIT'), ('38', 'พิษณุโลก', 'PHITSANULOK'), ('39', 'เพชรบุรี', 'PHETCHABURI'), ('40', 'เพชรบูรณ์', 'PHETCHABUN'), ('41', 'แพร่', 'PHRAE'), ('42', 'ภูเก็ต', 'PHUKET'), ('43', 'มหาสารคาม', 'MAHA SARAKHAM'), ('44', 'มุกดาหาร', 'MUKDAHAN'), ('45', 'แม่ฮ่องสอน', 'MAE HONG SON'), ('46', 'ยโสธร', 'YASOTHON'), ('47', 'ยะลา', 'YALA'), ('48', 'ร้อยเอ็ด', 'ROI ET'), ('49', 'ระนอง', 'RANONG'), ('50', 'ระยอง', 'RAYONG'), ('51', 'ราชบุรี', 'RATCHABURI'), ('52', 'ลพบุรี', 'LOP BURI'), ('53', 'ลำปาง', 'LAMPANG'), ('54', 'ลำพูน', 'LAMPHUN'), ('55', 'เลย', 'LOEI'), ('56', 'ศรีสะเกษ', 'SI SA KET'), ('57', 'สกลนคร', 'SAKON NAKHON'), ('58', 'สงขลา', 'SONGKHLA'), ('59', 'สตูล', 'SATUN'), ('60', 'สมุทรปราการ', 'SAMUT PRAKAN'), ('61', 'สมุทรสงคราม', 'SAMUT SONGKHRAM'), ('62', 'สมุทรสาคร', 'SAMUT SAKHON'), ('63', 'สระแก้ว', 'SA KAEO'), ('64', 'สระบุรี', 'SARABURI'), ('65', 'สิงห์บุรี', 'SING BURI'), ('66', 'สุโขทัย', 'SUKHOTHAI'), ('67', 'สุพรรณบุรี', 'SUPHAN BURI'), ('68', 'สุราษฎร์ธานี', 'SURAT THANI'), ('69', 'สุรินทร์', 'SURIN'), ('70', 'หนองคาย', 'NONG KHAI'), ('71', 'หนองบัวลำภู', 'NONG BUA LAMPHU'), ('72', 'อ่างทอง', 'ANG THONG'), ('73', 'อำนาจเจริญ', 'AMNAT CHAROEN'), ('74', 'อุดรธานี', 'UDON THANI'), ('75', 'อุตรดิตถ์', 'UTTARADIT'), ('76', 'อุทัยธานี', 'UTHAI THANI'), ('77', 'อุบลราชธานี', 'UBON RATCHATHANI')]\n"
                    ]
                }
            ],
            "metadata": {}
        },
        {
            "cell_type": "markdown",
            "source": [
                "#example_query_to_pandas_dataframe"
            ],
            "metadata": {}
        },
        {
            "cell_type": "code",
            "execution_count": 4,
            "source": [
                "import pyodbc\n",
                "import pandas as pd\n",
                "\n",
                "query = 'select * from pms_radio.master_province;'\n",
                "\n",
                "conn = pyodbc.connect(connection_string, autocommit=True)\n",
                "\n",
                "df = pd.read_sql_query(query, conn)\n",
                "\n",
                "conn.close()\n",
                "\n",
                "df"
            ],
            "outputs": [
                {
                    "output_type": "execute_result",
                    "data": {
                        "text/plain": [
                            "   province_id  thai_province      eng_province\n",
                            "0            1  กรุงเทพมหานคร           BANGKOK\n",
                            "1            2         กระบี่             KRABI\n",
                            "2            3      กาญจนบุรี      KANCHANABURI\n",
                            "3            4      กาฬสินธุ์           KALASIN\n",
                            "4            5      กำแพงเพชร    KAMPHAENG PHET\n",
                            "..         ...            ...               ...\n",
                            "72          73     อำนาจเจริญ     AMNAT CHAROEN\n",
                            "73          74       อุดรธานี        UDON THANI\n",
                            "74          75      อุตรดิตถ์         UTTARADIT\n",
                            "75          76      อุทัยธานี       UTHAI THANI\n",
                            "76          77    อุบลราชธานี  UBON RATCHATHANI\n",
                            "\n",
                            "[77 rows x 3 columns]"
                        ],
                        "text/html": [
                            "<div>\n",
                            "<style scoped>\n",
                            "    .dataframe tbody tr th:only-of-type {\n",
                            "        vertical-align: middle;\n",
                            "    }\n",
                            "\n",
                            "    .dataframe tbody tr th {\n",
                            "        vertical-align: top;\n",
                            "    }\n",
                            "\n",
                            "    .dataframe thead th {\n",
                            "        text-align: right;\n",
                            "    }\n",
                            "</style>\n",
                            "<table border=\"1\" class=\"dataframe\">\n",
                            "  <thead>\n",
                            "    <tr style=\"text-align: right;\">\n",
                            "      <th></th>\n",
                            "      <th>province_id</th>\n",
                            "      <th>thai_province</th>\n",
                            "      <th>eng_province</th>\n",
                            "    </tr>\n",
                            "  </thead>\n",
                            "  <tbody>\n",
                            "    <tr>\n",
                            "      <th>0</th>\n",
                            "      <td>1</td>\n",
                            "      <td>กรุงเทพมหานคร</td>\n",
                            "      <td>BANGKOK</td>\n",
                            "    </tr>\n",
                            "    <tr>\n",
                            "      <th>1</th>\n",
                            "      <td>2</td>\n",
                            "      <td>กระบี่</td>\n",
                            "      <td>KRABI</td>\n",
                            "    </tr>\n",
                            "    <tr>\n",
                            "      <th>2</th>\n",
                            "      <td>3</td>\n",
                            "      <td>กาญจนบุรี</td>\n",
                            "      <td>KANCHANABURI</td>\n",
                            "    </tr>\n",
                            "    <tr>\n",
                            "      <th>3</th>\n",
                            "      <td>4</td>\n",
                            "      <td>กาฬสินธุ์</td>\n",
                            "      <td>KALASIN</td>\n",
                            "    </tr>\n",
                            "    <tr>\n",
                            "      <th>4</th>\n",
                            "      <td>5</td>\n",
                            "      <td>กำแพงเพชร</td>\n",
                            "      <td>KAMPHAENG PHET</td>\n",
                            "    </tr>\n",
                            "    <tr>\n",
                            "      <th>...</th>\n",
                            "      <td>...</td>\n",
                            "      <td>...</td>\n",
                            "      <td>...</td>\n",
                            "    </tr>\n",
                            "    <tr>\n",
                            "      <th>72</th>\n",
                            "      <td>73</td>\n",
                            "      <td>อำนาจเจริญ</td>\n",
                            "      <td>AMNAT CHAROEN</td>\n",
                            "    </tr>\n",
                            "    <tr>\n",
                            "      <th>73</th>\n",
                            "      <td>74</td>\n",
                            "      <td>อุดรธานี</td>\n",
                            "      <td>UDON THANI</td>\n",
                            "    </tr>\n",
                            "    <tr>\n",
                            "      <th>74</th>\n",
                            "      <td>75</td>\n",
                            "      <td>อุตรดิตถ์</td>\n",
                            "      <td>UTTARADIT</td>\n",
                            "    </tr>\n",
                            "    <tr>\n",
                            "      <th>75</th>\n",
                            "      <td>76</td>\n",
                            "      <td>อุทัยธานี</td>\n",
                            "      <td>UTHAI THANI</td>\n",
                            "    </tr>\n",
                            "    <tr>\n",
                            "      <th>76</th>\n",
                            "      <td>77</td>\n",
                            "      <td>อุบลราชธานี</td>\n",
                            "      <td>UBON RATCHATHANI</td>\n",
                            "    </tr>\n",
                            "  </tbody>\n",
                            "</table>\n",
                            "<p>77 rows × 3 columns</p>\n",
                            "</div>"
                        ]
                    },
                    "metadata": {},
                    "execution_count": 4
                }
            ],
            "metadata": {}
        },
        {
            "cell_type": "code",
            "execution_count": null,
            "source": [],
            "outputs": [],
            "metadata": {}
        }
    ],
    "metadata": {
        "orig_nbformat": 4,
        "kernelspec": {
            "name": "python3",
            "display_name": "Python 3",
            "language": "python"
        },
        "language_info": {
            "name": "python",
            "version": "3.7.4",
            "mimetype": "text/x-python",
            "codemirror_mode": {
                "name": "ipython",
                "version": 3
            },
            "pygments_lexer": "ipython3",
            "nbconvert_exporter": "python",
            "file_extension": ".py"
        }
    },
    "nbformat": 4,
    "nbformat_minor": 2
}